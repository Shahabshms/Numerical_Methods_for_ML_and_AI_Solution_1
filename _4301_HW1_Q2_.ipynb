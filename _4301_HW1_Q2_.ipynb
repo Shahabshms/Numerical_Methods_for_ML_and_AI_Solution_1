{
  "nbformat": 4,
  "nbformat_minor": 0,
  "metadata": {
    "colab": {
      "name": "-- 4301 -- HW1 -- Q2 -- .ipynb",
      "provenance": [],
      "authorship_tag": "ABX9TyPKI4GeJVmq4W+CUkx12IBl",
      "include_colab_link": true
    },
    "kernelspec": {
      "name": "python3",
      "display_name": "Python 3"
    }
  },
  "cells": [
    {
      "cell_type": "markdown",
      "metadata": {
        "id": "view-in-github",
        "colab_type": "text"
      },
      "source": [
        "<a href=\"https://colab.research.google.com/github/Shahabshms/Numerical_Methods_for_ML_and_AI_Solution_1/blob/main/_4301_HW1_Q2_.ipynb\" target=\"_parent\"><img src=\"https://colab.research.google.com/assets/colab-badge.svg\" alt=\"Open In Colab\"/></a>"
      ]
    },
    {
      "cell_type": "markdown",
      "metadata": {
        "id": "QXRQQZpXszvQ"
      },
      "source": [
        "**2) Line Search vs. Fixed Step Size**"
      ]
    },
    {
      "cell_type": "markdown",
      "metadata": {
        "id": "GgHAD56ztoxP"
      },
      "source": [
        "1) Consider the least squares optimization problem discussed in class. That  is, given a collection of data observations $(x\n",
        "^{(1)}, y^{(M)}), . . . ,(x^{(M)},y^{(M)})\\in\\mathbb{R}^2$\n",
        ", consider finding the line $f(x) = ax+b$\n",
        "that minimizes the squared error.\n",
        "\\begin{align}\n",
        "f(x) = \\frac{1}{M}\\sum_{i=1}^{n} (y_i - ax_i - b)^2\n",
        "\\end{align}\n"
      ]
    },
    {
      "cell_type": "code",
      "metadata": {
        "id": "p4PxDcvsKHKr"
      },
      "source": [
        "def function_square(point): #The Least Square function\n",
        "  return  sum([(data[i][1] - point[0] * data[i][0] - point[1])**2 for i in range(len(data))]) / len(data)"
      ],
      "execution_count": null,
      "outputs": []
    },
    {
      "cell_type": "markdown",
      "metadata": {
        "id": "ZEIHUGSR2MnR"
      },
      "source": [
        "\\begin{align}\n",
        "\\frac{\\partial f(x)}{\\partial a} &= \\frac{1}{M}\\sum_{i=1}^{n} 2(y_i - ax_i - b)(-x_i)\\\\\n",
        "\\frac{\\partial f(x)}{\\partial b} &= \\frac{1}{M}\\sum_{i=1}^{n} 2(y_i - ax_i - b)(-1)\n",
        "\\end{align}"
      ]
    },
    {
      "cell_type": "code",
      "metadata": {
        "id": "wps9I_AOm6Bz"
      },
      "source": [
        "def gradient_square(point): #The gradient of the Least Square function\n",
        "  gradient = [0 for i in range(len(point))]\n",
        "  gradient[0] = sum([2 * (data[i][1] - point[0] * data[i][0] - point[1]) * (-data[i][0])\\\n",
        "                     for i in range(len(data))]) / len(data)\n",
        "  gradient[1] = sum([2 * (data[i][1] - point[0] * data[i][0] - point[1]) * (-1) \\\n",
        "                     for i in range(len(data))]) / len(data)\n",
        "\n",
        "  # Make sure you know what \\ does.\n",
        "  # And make sure you know that \\ is not /.  \n",
        "  return gradient"
      ],
      "execution_count": null,
      "outputs": []
    },
    {
      "cell_type": "markdown",
      "metadata": {
        "id": "hNcU01Uau7mV"
      },
      "source": [
        "In Python, implement gradient descent to find the optima a and b in the following ways:\n",
        "\n",
        "\n",
        "1. Standard gradient descent with a fixed step size, $\\gamma$.\n",
        "2. Standard gradient descent with a diminishing step size $\\frac{p}{q+t}$ for a given $p$ and $q$.\n",
        "3. Gradient descent with exact line search.\n",
        "4. Gradient descent with backtracking line search for a given $\\alpha$ and $\\beta$.\n",
        "5. (From part 2) Standard gradient decent with diminishing step size $\\frac{p}{\\sqrt{t}}$ \n",
        "\n"
      ]
    },
    {
      "cell_type": "markdown",
      "metadata": {
        "id": "OxB5z8VGaMZ8"
      },
      "source": [
        "In **Exact Line Search**, first and for the ease of notation define\n",
        "\\begin{align}\n",
        "g_a &= \\frac{\\partial f(x)}{\\partial a} \\text{   and    }\n",
        "g_b = \\frac{\\partial f(x)}{\\partial b}.\n",
        "\\end{align}\n",
        "Now the goal is to fine $\\gamma$ such that it minimizes $f(x - \\gamma\\nabla f(x))$. In particular, with\n",
        "\\begin{align}\n",
        "f(x - \\gamma\\nabla f(x)) &= \\frac{1}{M}\\sum_{i=1}^{n} \\left(y_i - (a - \\gamma g_a)x_i - (b-\\gamma g_b)\\right)^2,\n",
        "\\end{align}\n",
        "$\\gamma$ comes from the following optimization problem:\n",
        "\\begin{align}\n",
        "\\gamma^* = \\text{argmin}_{\\gamma} f(x - \\gamma\\nabla f(x))\n",
        "\\end{align}\n",
        "This optimization problem has a closed form solution, and we only need to take the derivate of $f(x - \\gamma\\nabla f(x))$ with respect to $\\gamma$ and put it equal to zero. So\n",
        "\\begin{align}\n",
        "\\frac{\\partial f(x - \\gamma\\nabla f(x))}{\\partial \\gamma} & = \\frac{1}{M}\\sum_{i=1}^{n} 2(y_i - ax_i - b + \\gamma(g_ax_i + g_b))(g_ax_i + g_b) = 0.\n",
        "\\end{align}\n",
        "Finally\n",
        "\\begin{align}\n",
        "\\gamma = \\frac{-\\sum_{i=1}^{n} (y_i - ax_i - b)(g_ax_i + g_b) }{\\sum_{i=1}^{n} (g_ax_i + g_b)^2}.\n",
        "\\end{align}\n"
      ]
    },
    {
      "cell_type": "code",
      "metadata": {
        "id": "gcez28GjtWcB"
      },
      "source": [
        "# In this function, you can find all the five different step size methods.\n",
        "# Instead of adding multiple functions, there is only one gradient decent\n",
        "# function (part 1 and 2 both have their own) that make use of step sizes from \n",
        "# this function. Variable \"method\" determines which step size method to use.\n",
        "\n",
        "# This function is shared between part 1 and 2. But since part 2 does not run\n",
        "# exact and backtracking line search, in those particular methods we have \n",
        "# made use of the omptimized gamma that you see in the above text cell and \n",
        "# function_square() respectively. So if you want to see how part 2 works with \n",
        "# these two methods make sure that you have another cell that has your proper \n",
        "# exact and backtracking line search for part 2. \n",
        "\n",
        "def step_size(method,iteration,gradient,point):\n",
        "  if method == \"fixed step\":\n",
        "    gamma = 0.05 # I think 0.5 is a typo. \n",
        "    return gamma\n",
        "\n",
        "  if method == \"diminishing step size 1\":\n",
        "    p = 1\n",
        "    q = 1\n",
        "    return p/(q+iteration)\n",
        "\n",
        "  if method == \"diminishing step size 2\":\n",
        "    p = 1\n",
        "    return  p/(iteration)**(0.5) \n",
        "\n",
        "  if method == \"exact line search\": \n",
        "    # This gamma is exactly what we saw in the previous text cell. \n",
        "    gamma = -sum([\\\n",
        "                 (data[i][1] - point[0]*data[i][0] - point[1])\\\n",
        "                 *(gradient[0]*data[i][0] + gradient[1])\\\n",
        "                 for i in range(len(data))\\\n",
        "                 ])\\\n",
        "            /sum([\\\n",
        "                  (gradient[0]*data[i][0]+gradient[1])**2\\\n",
        "                  for i in range(len(data))\\\n",
        "                  ])\n",
        "    return gamma\n",
        "\n",
        "  if method == \"backtracking line search\":\n",
        "    alpha = 0.3\n",
        "    beta = 0.1\n",
        "    gamma = 1\n",
        "    while function_square([point[i] - gamma * gradient[i] for i in range(len(gradient))]) > \\\n",
        "    function_square(point) - alpha * gamma * sum([g**2 for g in gradient]) :\n",
        "      gamma *= beta\n",
        "\n",
        "      \n",
        "    return gamma"
      ],
      "execution_count": null,
      "outputs": []
    },
    {
      "cell_type": "code",
      "metadata": {
        "id": "51uP0o_ctYwO"
      },
      "source": [
        "# This function runs the iterations and updates the weights a and b for part 1.\n",
        "def run_gradient_decent_square(iterations,initial_point,method):\n",
        "  point = initial_point\n",
        "  plot_data = []\n",
        "\n",
        "  for iteration in range(1,iterations):\n",
        "\n",
        "    gradient = gradient_square(point) # taking the gradient\n",
        "    gamma = step_size(method,iteration,gradient,point) # step size\n",
        "    point = [point[i] - gradient[i]*gamma for i in range(len(gradient))] # update\n",
        "\n",
        "    plot_data.append(function_square(point)) # This line only saves the values, to plot later.\n",
        "\n",
        "  return [point,plot_data]"
      ],
      "execution_count": null,
      "outputs": []
    },
    {
      "cell_type": "code",
      "metadata": {
        "id": "kMJTr0e_INO4"
      },
      "source": [
        "# Read the data and initializations and import\n",
        "with open('linreg.data', 'r') as f:\n",
        "    data = f.read()\n",
        "data = data[1:]\n",
        "data = data.split()\n",
        "data = [[float(d) for d in dat.split(',')] for dat in data]\n",
        "\n",
        "initial_point = [0,0]\n",
        "iterations = 100\n",
        "\n",
        "import matplotlib.pyplot as plt"
      ],
      "execution_count": null,
      "outputs": []
    },
    {
      "cell_type": "code",
      "metadata": {
        "id": "-7GJE9Q0tarh",
        "colab": {
          "base_uri": "https://localhost:8080/",
          "height": 299
        },
        "outputId": "07476d8e-fd20-470a-ad88-c43662fdac30"
      },
      "source": [
        "[best_point,plot_data] = run_gradient_decent_square(iterations,initial_point,\"fixed step\")\n",
        "print(best_point)\n",
        "plt.plot(plot_data)"
      ],
      "execution_count": null,
      "outputs": [
        {
          "output_type": "stream",
          "text": [
            "[3.1207177490943323, -3.887586208112561]\n"
          ],
          "name": "stdout"
        },
        {
          "output_type": "execute_result",
          "data": {
            "text/plain": [
              "[<matplotlib.lines.Line2D at 0x7f417bb2ba58>]"
            ]
          },
          "metadata": {
            "tags": []
          },
          "execution_count": 6
        },
        {
          "output_type": "display_data",
          "data": {
            "image/png": "[encoded data removed]",
            "text/plain": [
              "<Figure size 432x288 with 1 Axes>"
            ]
          },
          "metadata": {
            "tags": [],
            "needs_background": "light"
          }
        }
      ]
    },
    {
      "cell_type": "code",
      "metadata": {
        "id": "pgL63sASlCIw",
        "colab": {
          "base_uri": "https://localhost:8080/",
          "height": 310
        },
        "outputId": "707303ee-8ac2-4dfe-8295-82ccf6f5d14a"
      },
      "source": [
        "[best_point,plot_data] = run_gradient_decent_square(iterations,initial_point,\"diminishing step size 1\")\n",
        "print(best_point)\n",
        "plt.plot(plot_data)"
      ],
      "execution_count": null,
      "outputs": [
        {
          "output_type": "stream",
          "text": [
            "[3.1207087602475223, -3.887708570069239]\n"
          ],
          "name": "stdout"
        },
        {
          "output_type": "execute_result",
          "data": {
            "text/plain": [
              "[<matplotlib.lines.Line2D at 0x7f417bb0ce48>]"
            ]
          },
          "metadata": {
            "tags": []
          },
          "execution_count": 7
        },
        {
          "output_type": "display_data",
          "data": {
            "image/png": "[encoded data removed]",
            "text/plain": [
              "<Figure size 432x288 with 1 Axes>"
            ]
          },
          "metadata": {
            "tags": [],
            "needs_background": "light"
          }
        }
      ]
    },
    {
      "cell_type": "code",
      "metadata": {
        "id": "6UG6SMLAlDRX",
        "colab": {
          "base_uri": "https://localhost:8080/",
          "height": 299
        },
        "outputId": "c3e784d3-faae-433e-8f37-7de5170c9f0a"
      },
      "source": [
        "[best_point,plot_data] = run_gradient_decent_square(iterations,initial_point,\"exact line search\")\n",
        "print(best_point)\n",
        "plt.plot(plot_data)"
      ],
      "execution_count": null,
      "outputs": [
        {
          "output_type": "stream",
          "text": [
            "[3.1207055065900553, -3.887752860944642]\n"
          ],
          "name": "stdout"
        },
        {
          "output_type": "execute_result",
          "data": {
            "text/plain": [
              "[<matplotlib.lines.Line2D at 0x7f417b5e3d30>]"
            ]
          },
          "metadata": {
            "tags": []
          },
          "execution_count": 8
        },
        {
          "output_type": "display_data",
          "data": {
            "image/png": "[encoded data removed]",
            "text/plain": [
              "<Figure size 432x288 with 1 Axes>"
            ]
          },
          "metadata": {
            "tags": [],
            "needs_background": "light"
          }
        }
      ]
    },
    {
      "cell_type": "code",
      "metadata": {
        "id": "P545pxaLlEJG",
        "colab": {
          "base_uri": "https://localhost:8080/",
          "height": 299
        },
        "outputId": "020626eb-b7a1-4c4b-ccc7-b55735d3fe04"
      },
      "source": [
        "[best_point,plot_data] = run_gradient_decent_square(iterations,initial_point,\"backtracking line search\")\n",
        "print(best_point)\n",
        "plt.plot(plot_data)"
      ],
      "execution_count": null,
      "outputs": [
        {
          "output_type": "stream",
          "text": [
            "[3.120705513700349, -3.8877527641551315]\n"
          ],
          "name": "stdout"
        },
        {
          "output_type": "execute_result",
          "data": {
            "text/plain": [
              "[<matplotlib.lines.Line2D at 0x7f417b545eb8>]"
            ]
          },
          "metadata": {
            "tags": []
          },
          "execution_count": 9
        },
        {
          "output_type": "display_data",
          "data": {
            "image/png": "[encoded data removed]",
            "text/plain": [
              "<Figure size 432x288 with 1 Axes>"
            ]
          },
          "metadata": {
            "tags": [],
            "needs_background": "light"
          }
        }
      ]
    },
    {
      "cell_type": "markdown",
      "metadata": {
        "id": "66tMQWE7vh6I"
      },
      "source": [
        "2) Consider the same function fitting problem as above but with absolute error.\\begin{align}\n",
        "f(x) = \\frac{1}{M}\\sum_{i=1}^{n} |y_i - ax_i - b|\n",
        "\\end{align}"
      ]
    },
    {
      "cell_type": "code",
      "metadata": {
        "id": "R1zhXeiFKi3V"
      },
      "source": [
        "def function_absolute(point): # Absolute function\n",
        "  return  sum([abs(data[i][1] - point[0] * data[i][0] - point[1]) for i in range(len(data))]) / len(data)"
      ],
      "execution_count": null,
      "outputs": []
    },
    {
      "cell_type": "markdown",
      "metadata": {
        "id": "MHyToyy32puc"
      },
      "source": [
        "\\begin{align}\n",
        "\\frac{\\partial f(x)}{\\partial a} &= \\frac{1}{M}\\sum_{i=1}^{n} \\begin{cases}\n",
        "x_i & \\text{if } y_i - ax_i - b < 0\\\\\n",
        "-x_i & \\text{if } y_i - ax_i - b > 0 \\\\\n",
        "g\\in[\\min(-x_i,x_i),\\max(-x_i,x_i)] & \\text{if }y_i - ax_i - b = 0\n",
        "\\end{cases}\\\\\n",
        "\\\\\n",
        "\\frac{\\partial f(x)}{\\partial b} &= \\frac{1}{M}\\sum_{i=1}^{n} \\begin{cases}\n",
        "1 & \\text{if } y_i - ax_i - b < 0\\\\\n",
        "-1 & \\text{if } y_i - ax_i - b > 0 \\\\\n",
        "g\\in[-1,1] & \\text{if }y_i - ax_i - b = 0\n",
        "\\end{cases}\n",
        "\\end{align}"
      ]
    },
    {
      "cell_type": "code",
      "metadata": {
        "id": "3FHmUgiEvcTg"
      },
      "source": [
        "def gradient_absolute(point): # Gradient of the Absolute function\n",
        "  gradient = [0 for i in range(len(point))]\n",
        "\n",
        "  for i in range(len(data)):\n",
        "    if data[i][1] - point[0] * data[i][0] - point[1] < 0:\n",
        "      gradient[0] += data[i][0]\n",
        "      gradient[1] += 1\n",
        "    elif data[i][1] - point[0] * data[i][0] - point[1] > 0:\n",
        "      gradient[0] -= data[i][0]\n",
        "      gradient[1] -= 1\n",
        "    else:\n",
        "      gradient[0] += 0 # Could be anything betweein min(-x[i],x[i]) and max(-x[i],x[i])\n",
        "      gradient[1] += 0 # Could be anything between -1 and 1\n",
        "\n",
        "      # If your answer is differet from this, maybe the reason is these 0s. \n",
        "\n",
        "  gradient[0] /= len(data) # M = len(data)\n",
        "  gradient[1] /= len(data)\n",
        "\n",
        "  return gradient"
      ],
      "execution_count": null,
      "outputs": []
    },
    {
      "cell_type": "code",
      "metadata": {
        "id": "zgpZteLqrnvG"
      },
      "source": [
        "# This function runs the iterations and updates the weights a and b for part 2.\n",
        "def run_gradient_decent_absolute(iterations,initial_point,method):\n",
        "  point = initial_point\n",
        "  plot_data = []\n",
        "\n",
        "  for iteration in range(1,iterations):\n",
        "\n",
        "    gradient = gradient_absolute(point) # gradien\n",
        "    gamma = step_size(method,iteration,gradient,point) # step size\n",
        "    point = [point[i] - gradient[i]*gamma for i in range(len(gradient))] #update\n",
        "\n",
        "    plot_data.append(function_square(point))\n",
        "\n",
        "  return [point,plot_data]"
      ],
      "execution_count": null,
      "outputs": []
    },
    {
      "cell_type": "code",
      "metadata": {
        "id": "RsB1_HPOrLPB",
        "colab": {
          "base_uri": "https://localhost:8080/",
          "height": 299
        },
        "outputId": "0706ae09-cf16-445f-a188-3b877b8e85b5"
      },
      "source": [
        "[best_point,plot_data] = run_gradient_decent_absolute(iterations,initial_point,\"diminishing step size 1\")\n",
        "print(best_point)\n",
        "plt.plot(plot_data)"
      ],
      "execution_count": null,
      "outputs": [
        {
          "output_type": "stream",
          "text": [
            "[3.140852715131747, -2.664028937483266]\n"
          ],
          "name": "stdout"
        },
        {
          "output_type": "execute_result",
          "data": {
            "text/plain": [
              "[<matplotlib.lines.Line2D at 0x7f417b532ef0>]"
            ]
          },
          "metadata": {
            "tags": []
          },
          "execution_count": 13
        },
        {
          "output_type": "display_data",
          "data": {
            "image/png": "[encoded data removed]",
            "text/plain": [
              "<Figure size 432x288 with 1 Axes>"
            ]
          },
          "metadata": {
            "tags": [],
            "needs_background": "light"
          }
        }
      ]
    },
    {
      "cell_type": "code",
      "metadata": {
        "id": "QuGWOLrkrLot",
        "colab": {
          "base_uri": "https://localhost:8080/",
          "height": 299
        },
        "outputId": "dcf5dc32-544c-4a43-e357-a70d27f9ae20"
      },
      "source": [
        "[best_point,plot_data] = run_gradient_decent_absolute(iterations,initial_point,\"diminishing step size 2\")\n",
        "print(best_point)\n",
        "plt.plot(plot_data)"
      ],
      "execution_count": null,
      "outputs": [
        {
          "output_type": "stream",
          "text": [
            "[3.0970467091862592, -3.746983857372168]\n"
          ],
          "name": "stdout"
        },
        {
          "output_type": "execute_result",
          "data": {
            "text/plain": [
              "[<matplotlib.lines.Line2D at 0x7f417b49d160>]"
            ]
          },
          "metadata": {
            "tags": []
          },
          "execution_count": 14
        },
        {
          "output_type": "display_data",
          "data": {
            "image/png": "[encoded data removed]",
            "text/plain": [
              "<Figure size 432x288 with 1 Axes>"
            ]
          },
          "metadata": {
            "tags": [],
            "needs_background": "light"
          }
        }
      ]
    }
  ]
}