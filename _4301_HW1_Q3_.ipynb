{
  "nbformat": 4,
  "nbformat_minor": 0,
  "metadata": {
    "colab": {
      "name": "-- 4301 -- HW1 -- Q3 -- .ipynb",
      "provenance": [],
      "authorship_tag": "ABX9TyNAD3B026WbchiofpsOBIUj",
      "include_colab_link": true
    },
    "kernelspec": {
      "name": "python3",
      "display_name": "Python 3"
    }
  },
  "cells": [
    {
      "cell_type": "markdown",
      "metadata": {
        "id": "view-in-github",
        "colab_type": "text"
      },
      "source": [
        "<a href=\"https://colab.research.google.com/github/Shahabshms/Numerical_Methods_for_ML_and_AI_Solution_1/blob/main/_4301_HW1_Q3_.ipynb\" target=\"_parent\"><img src=\"https://colab.research.google.com/assets/colab-badge.svg\" alt=\"Open In Colab\"/></a>"
      ]
    },
    {
      "cell_type": "markdown",
      "metadata": {
        "id": "upE-WL30BSZf"
      },
      "source": [
        "1) Consider the following univariate optimization problem.\n",
        "\\begin{align}\n",
        "\\text{inf}_a \\left[\\frac{\\exp(a)}{1+\\exp(a)}\\ln(\\frac{\\exp(a)}{1+\\exp(a)}) + \\frac{1}{1+\\exp(a)}\\ln(\\frac{1}{1+\\exp(a)}) \\right]\n",
        "\\end{align}\n",
        "\n",
        "\n",
        "1.   Is this a convex optimization problem? Prove your answer.\n",
        "2. Use gradient descent with a fixed step size to find the global minimum.\n",
        "3.  Use gradient descent with a fixed step size and numerical approximations of the derivatives to find the global minimum.\n",
        "\n"
      ]
    },
    {
      "cell_type": "code",
      "metadata": {
        "id": "MuQGuDkDPp9E"
      },
      "source": [
        "def main_function(x):\n",
        "  return exp(x)/(1+exp(x)) * log( exp(x)/(1+exp(x)) ) + 1/(1+exp(x)) * log( 1/(1+exp(x)) )"
      ],
      "execution_count": null,
      "outputs": []
    },
    {
      "cell_type": "markdown",
      "metadata": {
        "id": "nCJohEYuII0m"
      },
      "source": [
        "The above optimization problem is not convex, because the function is not convex. We prove its non-convexity by just plotting it. \n",
        "\n",
        "It is also easy to find $x,y\\in\\mathbb{R}$ and $t\\in[0,1]$ such that $tf(x) + (1-t)f(y) < f(tx + (1-t)y)$. \n",
        "\n",
        "Looking at the plot below, $x = -10$, $y = 0$ and $t = 0.5$ should satisfy the condition.  "
      ]
    },
    {
      "cell_type": "code",
      "metadata": {
        "id": "3KzdfCI5Fftj",
        "colab": {
          "base_uri": "https://localhost:8080/",
          "height": 282
        },
        "outputId": "22bdbcdd-c6f2-4902-8853-772020f34829"
      },
      "source": [
        "import matplotlib.pyplot as plt\n",
        "from math import exp\n",
        "from math import log\n",
        "A = [a/10 for a in list(range(-150,150))]\n",
        "Y = [ main_function(a) for a in A]\n",
        "plt.plot(A,Y)"
      ],
      "execution_count": null,
      "outputs": [
        {
          "output_type": "execute_result",
          "data": {
            "text/plain": [
              "[<matplotlib.lines.Line2D at 0x7f71119bf748>]"
            ]
          },
          "metadata": {
            "tags": []
          },
          "execution_count": 2
        },
        {
          "output_type": "display_data",
          "data": {
            "image/png": "[encoded data removed]",
            "text/plain": [
              "<Figure size 432x288 with 1 Axes>"
            ]
          },
          "metadata": {
            "tags": [],
            "needs_background": "light"
          }
        }
      ]
    },
    {
      "cell_type": "markdown",
      "metadata": {
        "id": "PN7FU_3NkfEB"
      },
      "source": [
        "For applying gradient decent, we first need to take the gradient, as the following."
      ]
    },
    {
      "cell_type": "markdown",
      "metadata": {
        "id": "x6BKX9ngJ--d"
      },
      "source": [
        "\\begin{align}\n",
        "f(a) &= \\frac{\\exp(a)}{1+\\exp(a)}\\ln(\\frac{\\exp(a)}{1+\\exp(a)}) + \\frac{1}{1+\\exp(a)}\\ln(\\frac{1}{1+\\exp(a)})\\\\\n",
        "\\frac{\\partial f(a)}{\\partial a} &= \\frac{\\exp(a)}{(1+\\exp(a))^2}\\ln(\\frac{\\exp(a)}{1+\\exp(a)}) + \\frac{\\exp(a)}{1+\\exp(a)}\\frac{\\frac{\\exp(a)}{(1+\\exp(a))^2}}{\\frac{\\exp(a)}{1+\\exp(a)}} - \\frac{\\exp(a)}{(1+\\exp(a))^2}\\ln(\\frac{1}{1+\\exp(a)}) - \\frac{1}{1+\\exp(a)}\\frac{\\frac{\\exp(a)}{(1\\exp(a))^2}}{\\frac{1}{1+\\exp(a)}}\\\\\n",
        "& = \\frac{\\exp(a)}{(1+\\exp(a))^2}\\left(1 + \\ln(\\frac{\\exp(a)}{1+\\exp(a)})\\right)\n",
        "- \\frac{\\exp(a)}{(1+\\exp(a))^2}\\left(1 + \\ln(\\frac{1}{1+\\exp(a)})\\right)\\\\\n",
        "& = \\frac{\\exp(a)}{(1+\\exp(a))^2}\\left(\\ln(\\frac{\\exp(a)}{1+\\exp(a)}) - \\ln(\\frac{1}{1+\\exp(a)})\\right)\\\\\n",
        "& = \\frac{\\exp(a)}{(1+\\exp(a))^2}\\ln(\\frac{\\frac{\\exp(a)}{1+\\exp(a)}}{\\frac{1}{1+\\exp(a)}})\\\\\n",
        " & = \\frac{a\\exp(a)}{(1+\\exp(a))^2}\n",
        "\\end{align}"
      ]
    },
    {
      "cell_type": "code",
      "metadata": {
        "id": "rSZE4_ByJSdl"
      },
      "source": [
        "def gradient_func(point,method):\n",
        "  if method == \"closed form\":\n",
        "    gradient = point * exp(point) / ((1+exp(point))**2) # This formula comes from the above text cell. \n",
        "    return gradient\n",
        "  if method == \"numerical approximation\":\n",
        "    epsilon = 0.00001\n",
        "    gradient = (main_function(point + epsilon) - main_function(point - epsilon)) / (2*epsilon)\n",
        "    return gradient"
      ],
      "execution_count": null,
      "outputs": []
    },
    {
      "cell_type": "code",
      "metadata": {
        "id": "KFjo9FjCI9kf"
      },
      "source": [
        "# This function runs the iterations and updates the answer\n",
        "def run_gradient_decent(iterations,initial_point,method):\n",
        "  point = initial_point\n",
        "  plot_data = []\n",
        "  gamma = 0.05\n",
        "\n",
        "  for iteration in range(1,iterations):\n",
        "\n",
        "    gradient = gradient_func(point,method)\n",
        "    point = point - gamma*gradient # update with fixed step size gamma\n",
        "\n",
        "    plot_data.append(main_function(point))\n",
        "\n",
        "  return [point,plot_data]"
      ],
      "execution_count": null,
      "outputs": []
    },
    {
      "cell_type": "code",
      "metadata": {
        "id": "f64ZzLblRCxe"
      },
      "source": [
        "iterations = 1000\n",
        "initial_point = -4"
      ],
      "execution_count": null,
      "outputs": []
    },
    {
      "cell_type": "code",
      "metadata": {
        "id": "esK_YuUkQzXx",
        "colab": {
          "base_uri": "https://localhost:8080/",
          "height": 299
        },
        "outputId": "4246d098-b3c3-417d-ca19-8b4837b5518a"
      },
      "source": [
        "[best_point,plot_data] = run_gradient_decent(iterations,initial_point,\"closed form\")\n",
        "print(best_point)\n",
        "plt.plot(plot_data)"
      ],
      "execution_count": null,
      "outputs": [
        {
          "output_type": "stream",
          "text": [
            "-0.0007366117449460778\n"
          ],
          "name": "stdout"
        },
        {
          "output_type": "execute_result",
          "data": {
            "text/plain": [
              "[<matplotlib.lines.Line2D at 0x7f71123077f0>]"
            ]
          },
          "metadata": {
            "tags": []
          },
          "execution_count": 6
        },
        {
          "output_type": "display_data",
          "data": {
            "image/png": "[encoded data removed]",
            "text/plain": [
              "<Figure size 432x288 with 1 Axes>"
            ]
          },
          "metadata": {
            "tags": [],
            "needs_background": "light"
          }
        }
      ]
    },
    {
      "cell_type": "code",
      "metadata": {
        "id": "EvoE7sq1Qzmt",
        "colab": {
          "base_uri": "https://localhost:8080/",
          "height": 299
        },
        "outputId": "8d3f3b19-8ea8-4d02-cacf-8a60e56ab977"
      },
      "source": [
        "[best_point,plot_data] = run_gradient_decent(iterations,initial_point,\"numerical approximation\")\n",
        "print(best_point)\n",
        "plt.plot(plot_data)"
      ],
      "execution_count": null,
      "outputs": [
        {
          "output_type": "stream",
          "text": [
            "-0.0007366117584883813\n"
          ],
          "name": "stdout"
        },
        {
          "output_type": "execute_result",
          "data": {
            "text/plain": [
              "[<matplotlib.lines.Line2D at 0x7f7111496198>]"
            ]
          },
          "metadata": {
            "tags": []
          },
          "execution_count": 7
        },
        {
          "output_type": "display_data",
          "data": {
            "image/png": "[encoded data removed]",
            "text/plain": [
              "<Figure size 432x288 with 1 Axes>"
            ]
          },
          "metadata": {
            "tags": [],
            "needs_background": "light"
          }
        }
      ]
    },
    {
      "cell_type": "markdown",
      "metadata": {
        "id": "RURJgyssCrhZ"
      },
      "source": [
        "2) Consider the convex function in cvxnum.py (copy pasted in the next cell). Apply numerical gradient descent to minimize\n",
        "this function."
      ]
    },
    {
      "cell_type": "code",
      "metadata": {
        "id": "0Uy7b2SSBFct"
      },
      "source": [
        "import numpy as np\n",
        "\n",
        "y = np.array([2.75198506,-5.541184818,14.81934946,-34.65577748,-6.036670701,-27.34074257,-18.67954778,-4.531163389,-8.463598885,-4.806331846,-20.09027547,-107.031734,34.65105681,21.41655864,-83.21746094,114.6194173,-39.13794574,-46.20674128,23.45614046,-33.1974178,14.9144941,17.21773856,-31.70162905,50.95795002,16.3810622,141.5846624,-26.00290094,-63.81808306,-3.997881007,-35.44812169,1.927672422,11.29194311,49.95240821,-37.07117216,51.91237327,3.988664907,-13.45755315,-4.190311669,32.16980277,-21.39186658,-27.15621109,-32.78199277,7.605822107,-3.823710624,39.55301114,136.7265494,30.50586808,-27.2958396,-49.98387647,10.29176928,-0.888796686,61.15207747,-2.93377107,-30.872248,20.36818568,28.34204072,12.58822076,21.5757316,12.1565238,-22.0086202,-27.33346362,-24.70022973,-93.04742143,-18.34721929,-73.60395117,-6.88354133,30.47598778,46.2298951,-2.949254054,112.5905457,134.5806066,-18.76878972,-98.69031293,-26.89823874,19.11223559,93.34615966,21.74126753,1.371608889,-50.80601589,102.3023744,-81.6200239,-53.02613451,-1.38786559,19.31724452,62.22949664,-11.59962601,10.89898815,-41.60449807,12.43963494,-14.95075093,-132.7159906,22.40042227,28.47993159,43.89721204,-8.08636676,18.458018,-64.51597531,-91.89768216,-106.5416773,31.62179325])\n",
        "y = y.reshape(100,1)\n",
        "\n",
        "x = np.array([-0.441562979,-2.867852212,3.32754246,0.297456939,0.118744313,-2.86715106,-3.572367747,1.833079153,-2.803440652,1.299079448,-3.72420938,-4.990005819,-0.115143211,1.668385772,-3.803246435,4.758539709,-0.061181562,-2.571238337,3.135911924,-1.202760603,1.803516651,1.319547107,0.714130716,3.496820189,1.824576645,4.8692677,-2.496941136,-4.155768961,3.006229791,-3.583370197,-1.496196276,0.874034001,4.053306072,-3.370604286,4.31616137,1.85687137,-2.396819043,-2.512293371,4.108022322,2.945894242,-3.211600492,1.270053164,1.639682538,2.400075814,1.003447932,4.223580011,0.270249527,-1.198570098,-2.559040844,2.126467948,-2.51080389,2.672435945,1.852885676,2.4668463,-1.160864873,3.77469536,-0.388789202,0.642688253,0.316895859,-1.852164952,0.157728581,-2.955074186,-4.475144574,1.785686388,-4.084418571,0.099530371,-1.839287991,3.50614066,-1.295142073,4.975519024,4.905112152,-1.019948136,-4.353592405,-0.795995688,-1.203947142,4.860510667,-0.868166414,2.345591252,-4.261581233,4.815962089,-4.775863456,-3.591262024,-0.341799269,-0.055436526,3.976465424,-2.309531852,-0.241209759,1.556110905,1.204251858,-2.948187481,-4.727497803,1.100922463,0.199168248,3.621874311,0.480091573,1.803949912,-4.217712908,-4.521561998,-4.619984646,2.423723345])\n",
        "x = x.reshape(100,1)\n",
        "\n",
        "def cvx_fn(x):\n",
        "\tsmoother = .005\n",
        "\tminq = x-2\n",
        "\tmaxq = x+2\n",
        "\tq = x\n",
        "\tbest = 1e10\n",
        "\tfor j in range(50):\n",
        "\t\tv,s = env_helper(q)\n",
        "\t\tbest = min(best, v + 1/(2*smoother)*(x-q)*(x-q))\n",
        "\t\tif (s + 1/smoother*(q-x)) <= 0:\n",
        "\t\t\tminq = q\n",
        "\t\telse:\n",
        "\t\t\tmaxq = q\n",
        "\t\tq = (minq+maxq)/2\n",
        "\treturn best\n",
        "\n",
        "\n",
        "def env_helper(q):\n",
        "\tgamma = 100.0\n",
        "\tbest = -1e100\n",
        "\tmina = -gamma\n",
        "\tmaxa = gamma\n",
        "\ta = 0.0\n",
        "\tslope = a\n",
        "\tfor j in range(100):\n",
        "\t\tloc = np.argmin(y - a*(x-q));\n",
        "\t\tif - x[loc] + q >= 0:\n",
        "\t\t\tmina = a;\n",
        "\t\telse:\n",
        "\t\t\tmaxa = a;\n",
        "\n",
        "\t\ta = (maxa+mina)/2;\n",
        "\t\tif np.amin(y - a*(x-q)) >= best:\n",
        "\t\t\tbest = max(best, np.amin(y - a*(x-q)));\n",
        "\t\t\tslope = a;\n",
        "\treturn best, slope\n"
      ],
      "execution_count": null,
      "outputs": []
    },
    {
      "cell_type": "code",
      "metadata": {
        "id": "P53HEjTYYvsG"
      },
      "source": [
        "def run_gradient_decent_cvx(iterations,initial_point):\n",
        "  point = initial_point\n",
        "  plot_data = []\n",
        "  gamma = 0.01 # You can use a small fixed step size, or you can use other methods that we have seen in Question 2, like diminishing step size. \n",
        "  epsilon = 0.00001\n",
        "\n",
        "  for iteration in range(1,iterations):\n",
        "\n",
        "    gradient = (cvx_fn(point + epsilon) - cvx_fn(point - epsilon)) / (2*epsilon)\n",
        "    point = point - gamma*gradient\n",
        "\n",
        "    plot_data.append(cvx_fn(point))\n",
        "\n",
        "  return [point,plot_data]"
      ],
      "execution_count": null,
      "outputs": []
    },
    {
      "cell_type": "code",
      "metadata": {
        "id": "_0Xliys1mziv",
        "colab": {
          "base_uri": "https://localhost:8080/",
          "height": 282
        },
        "outputId": "709bcc28-386e-40e3-af6c-b2f9561a1e3a"
      },
      "source": [
        "#Lets cheat a little bit.\n",
        "X = [x/30 for x in list(range(-200,200))]\n",
        "Y = [ cvx_fn(x) for x in X]\n",
        "plt.plot(X,Y)"
      ],
      "execution_count": null,
      "outputs": [
        {
          "output_type": "execute_result",
          "data": {
            "text/plain": [
              "[<matplotlib.lines.Line2D at 0x7f7111419d68>]"
            ]
          },
          "metadata": {
            "tags": []
          },
          "execution_count": 10
        },
        {
          "output_type": "display_data",
          "data": {
            "image/png": "[encoded data removed]",
            "text/plain": [
              "<Figure size 432x288 with 1 Axes>"
            ]
          },
          "metadata": {
            "tags": [],
            "needs_background": "light"
          }
        }
      ]
    },
    {
      "cell_type": "code",
      "metadata": {
        "id": "UVsgAsV5Yf86",
        "colab": {
          "base_uri": "https://localhost:8080/",
          "height": 299
        },
        "outputId": "f133aa2c-5aca-4fb6-c0db-acb7aad9bc2b"
      },
      "source": [
        "iterations = 100\n",
        "initial_point = 7\n",
        "\n",
        "[best_point,plot_data] = run_gradient_decent_cvx(iterations,initial_point)\n",
        "print(best_point)\n",
        "plt.plot(plot_data)"
      ],
      "execution_count": null,
      "outputs": [
        {
          "output_type": "stream",
          "text": [
            "-4.785486016599122\n"
          ],
          "name": "stdout"
        },
        {
          "output_type": "execute_result",
          "data": {
            "text/plain": [
              "[<matplotlib.lines.Line2D at 0x7f711136d550>]"
            ]
          },
          "metadata": {
            "tags": []
          },
          "execution_count": 11
        },
        {
          "output_type": "display_data",
          "data": {
            "image/png": "[encoded data removed]",
            "text/plain": [
              "<Figure size 432x288 with 1 Axes>"
            ]
          },
          "metadata": {
            "tags": [],
            "needs_background": "light"
          }
        }
      ]
    }
  ]
}